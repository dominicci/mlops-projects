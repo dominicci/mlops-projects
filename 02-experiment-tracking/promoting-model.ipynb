{
 "cells": [
  {
   "cell_type": "code",
   "execution_count": null,
   "id": "6fc0bfc4",
   "metadata": {},
   "outputs": [],
   "source": [
    "from mlflow.tracking import MlflowClient\n",
    "\n",
    "\n",
    "MLFLOW_TRACKING_URI = \"sqlite:///mlflow.db\"\n",
    "\n",
    "client = MlflowClient(tracking_uri=MLFLOW_TRACKING_URI)\n",
    "\n"
   ]
  },
  {
   "cell_type": "code",
   "execution_count": null,
   "id": "30b02ee8",
   "metadata": {},
   "outputs": [],
   "source": [
    "client.search_experiments()"
   ]
  },
  {
   "cell_type": "code",
   "execution_count": null,
   "id": "4fe013ea",
   "metadata": {},
   "outputs": [],
   "source": [
    "client.create_experiment(name=\"my-test-experiment\")"
   ]
  },
  {
   "cell_type": "code",
   "execution_count": null,
   "id": "c6a8ef36",
   "metadata": {},
   "outputs": [],
   "source": []
  },
  {
   "cell_type": "code",
   "execution_count": null,
   "id": "992f9365",
   "metadata": {},
   "outputs": [],
   "source": [
    "from mlflow.entities import ViewType\n",
    "\n",
    "runs = client.search_runs(\n",
    "    experiment_ids=\"1\",\n",
    "    filter_string=\"tags.model = 'xgboost' and attributes.start_time > 1759415435000\",\n",
    "    run_view_type=ViewType.ACTIVE_ONLY,\n",
    "    max_results=5,\n",
    "    order_by=[\"metrics.rmse ASC\"]\n",
    "    )\n",
    "\n",
    "runs\n"
   ]
  },
  {
   "cell_type": "code",
   "execution_count": null,
   "id": "9ee6ef94",
   "metadata": {},
   "outputs": [],
   "source": [
    "for run in runs:\n",
    "    print(f\"run id: {run.info.run_id}, rmse: {run.data.metrics['rmse']:.4f}\")\n",
    "\n"
   ]
  },
  {
   "cell_type": "code",
   "execution_count": null,
   "id": "0c38da54",
   "metadata": {},
   "outputs": [],
   "source": []
  },
  {
   "cell_type": "code",
   "execution_count": null,
   "id": "296c6afb",
   "metadata": {},
   "outputs": [],
   "source": [
    "import mlflow\n",
    "\n",
    "mlflow.set_tracking_uri(MLFLOW_TRACKING_URI)"
   ]
  },
  {
   "cell_type": "code",
   "execution_count": null,
   "id": "c9b8d5d3",
   "metadata": {},
   "outputs": [],
   "source": [
    "run_id = \"debe60ddd4ce4936a7ca70d2393c316e\"\n",
    "model_uri = f\"runs:/{run_id}/model\"\n",
    "mlflow.register_model(model_uri=model_uri, name=\"nyc-taxi-xgboost\")"
   ]
  },
  {
   "cell_type": "code",
   "execution_count": null,
   "id": "a5fbf23f",
   "metadata": {},
   "outputs": [],
   "source": []
  },
  {
   "cell_type": "code",
   "execution_count": null,
   "id": "0db3a04b",
   "metadata": {},
   "outputs": [],
   "source": [
    "client.search_registered_models()"
   ]
  },
  {
   "cell_type": "code",
   "execution_count": null,
   "id": "a3f7c179",
   "metadata": {},
   "outputs": [],
   "source": [
    "model_name = \"nyc-taxi-xgboost\"\n",
    "latest_versions = client.get_latest_versions(name=model_name)\n",
    "\n",
    "for version in latest_versions:\n",
    "    print(f\"version: {version.version}, stage: {version.current_stage}\")"
   ]
  },
  {
   "cell_type": "code",
   "execution_count": null,
   "id": "872540c1",
   "metadata": {},
   "outputs": [],
   "source": [
    "model_version = 2\n",
    "new_stage = \"Staging\"\n",
    "\n",
    "client.transition_model_version_stage(\n",
    "    name=model_name,\n",
    "    version=model_version,\n",
    "    stage=new_stage,\n",
    "    archive_existing_versions=False\n",
    ")\n",
    "\n"
   ]
  },
  {
   "cell_type": "code",
   "execution_count": null,
   "id": "f0cbc34f",
   "metadata": {},
   "outputs": [],
   "source": []
  },
  {
   "cell_type": "code",
   "execution_count": null,
   "id": "599c292e",
   "metadata": {},
   "outputs": [],
   "source": [
    "from datetime import datetime\n",
    "\n",
    "date = datetime.today().date()\n",
    "\n",
    "client.update_model_version(\n",
    "    name=model_name,\n",
    "    version=model_version,\n",
    "    description=f\"The model version {model_version} was transitioned to {new_stage} on {date}\",\n",
    ")\n"
   ]
  },
  {
   "cell_type": "code",
   "execution_count": null,
   "id": "083fc916",
   "metadata": {},
   "outputs": [],
   "source": [
    "import pandas as pd\n",
    "from sklearn.metrics import mean_squared_error\n",
    "\n",
    "\n",
    "def read_dataframe(filename):\n",
    "    if filename.endswith(\".csv\"):\n",
    "        df = pd.read_csv(filename)\n",
    "\n",
    "        df.lpep_dropoff_datetime = pd.to_datetime(df.lpep_dropoff_datetime)\n",
    "        df.lpep_pickup_datetime = pd.to_datetime(df.lpep_pickup_datetime)\n",
    "    elif filename.endswith(\".parquet\"):\n",
    "        df = pd.read_parquet(filename)\n",
    "\n",
    "    df[\"duration\"] = df.lpep_dropoff_datetime - df.lpep_pickup_datetime\n",
    "    df.duration = df.duration.apply(lambda td: td.total_seconds() / 60)\n",
    "\n",
    "    df = df[(df.duration >= 1) & (df.duration <= 60)]\n",
    "\n",
    "    categorical = [\"PULocationID\", \"DOLocationID\"]\n",
    "    df[categorical] = df[categorical].astype(str)\n",
    "\n",
    "    return df\n",
    "\n",
    "def preprocess(df, dv):\n",
    "    df[\"PU_DO\"] = df[\"PULocationID\"] + \"_\" + df[\"DOLocationID\"]\n",
    "    categorical = [\"PU_DO\"]\n",
    "    numerical = [\"trip_distance\"]\n",
    "    train_dicts = df[categorical + numerical].to_dict(orient=\"records\")\n",
    "    return dv.transform(train_dicts)\n",
    "\n",
    "def test_model(stage, X_test, y_test, name=\"nyc-taxi-xgboost\"):\n",
    "    model = mlflow.pyfunc.load_model(f\"models/{name}/{stage}\")\n",
    "    y_pred = model.predict(X_test)\n",
    "    rmse = mean_squared_error(y_test, y_pred)\n",
    "    return rmse\n",
    "\n",
    "\n",
    "def test_model_run(run_id, X_test, y_test, name=\"nyc-taxi-xgboost\"):\n",
    "    # model = mlflow.pyfunc.load_model(f\"models/{name}/{stage}\")\n",
    "\n",
    "    model = mlflow.pyfunc.load_model(f\"runs:/{run_id}/models_mlflow\")\n",
    "    y_pred = model.predict(X_test)\n",
    "    rmse = mean_squared_error(y_test, y_pred)\n",
    "    return rmse\n",
    "\n",
    "\n"
   ]
  },
  {
   "cell_type": "code",
   "execution_count": null,
   "id": "de3de5c0",
   "metadata": {},
   "outputs": [],
   "source": [
    "df = read_dataframe(\"data/green_tripdata_2021-03.parquet\")\n",
    "\n",
    "df.head"
   ]
  },
  {
   "cell_type": "code",
   "execution_count": null,
   "id": "61d060b7",
   "metadata": {},
   "outputs": [],
   "source": [
    "client.download_artifacts(\n",
    "    run_id=\"6c8814541e8e4792940c0ea284e7a2dc\",\n",
    "    path=\"preprocessor\",\n",
    "    dst_path=\".\",\n",
    ")"
   ]
  },
  {
   "cell_type": "code",
   "execution_count": null,
   "id": "2781943b",
   "metadata": {},
   "outputs": [],
   "source": [
    "# client.download_artifacts(\n",
    "#     run_id=\"6c8814541e8e4792940c0ea284e7a2dc\",\n",
    "#     path=\"model\",\n",
    "#     dst_path=\"models\",\n",
    "# )\n"
   ]
  },
  {
   "cell_type": "code",
   "execution_count": null,
   "id": "35f57fad",
   "metadata": {},
   "outputs": [],
   "source": [
    "import pickle\n",
    "\n",
    "with open(\"preprocessor/preprocessor.b\", \"rb\") as f_in:\n",
    "    dv = pickle.load(f_in)"
   ]
  },
  {
   "cell_type": "code",
   "execution_count": null,
   "id": "95a19090",
   "metadata": {},
   "outputs": [],
   "source": [
    "X_test = preprocess(df, dv)"
   ]
  },
  {
   "cell_type": "code",
   "execution_count": null,
   "id": "c4d986d2",
   "metadata": {},
   "outputs": [],
   "source": [
    "target = \"duration\"\n",
    "y_test = df[target].values\n",
    "\n",
    "\n"
   ]
  },
  {
   "cell_type": "code",
   "execution_count": null,
   "id": "14bbca17",
   "metadata": {},
   "outputs": [],
   "source": [
    "run_id = \"4ab881b1da5a4546ac041b25dbeca240\"\n",
    "%time test_model_run(name=model_name, run_id=run_id, X_test=X_test, y_test=y_test)"
   ]
  },
  {
   "cell_type": "code",
   "execution_count": null,
   "id": "6d3ee44b",
   "metadata": {},
   "outputs": [],
   "source": [
    "client.transition_model_version_stage(\n",
    "    name=model_name,\n",
    "    version=1,\n",
    "    stage=\"Production\",\n",
    "    archive_existing_versions=True\n",
    ")\n"
   ]
  },
  {
   "cell_type": "code",
   "execution_count": null,
   "id": "02be4836",
   "metadata": {},
   "outputs": [],
   "source": []
  }
 ],
 "metadata": {
  "kernelspec": {
   "display_name": "machine-learning-projects",
   "language": "python",
   "name": "machine-learning-projects"
  },
  "language_info": {
   "codemirror_mode": {
    "name": "ipython",
    "version": 3
   },
   "file_extension": ".py",
   "mimetype": "text/x-python",
   "name": "python",
   "nbconvert_exporter": "python",
   "pygments_lexer": "ipython3",
   "version": "3.11.12"
  }
 },
 "nbformat": 4,
 "nbformat_minor": 5
}
